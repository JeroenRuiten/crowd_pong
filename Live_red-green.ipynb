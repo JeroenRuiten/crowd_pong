{
 "cells": [
  {
   "cell_type": "code",
   "execution_count": 11,
   "metadata": {
    "collapsed": true
   },
   "outputs": [],
   "source": [
    "import cv2\n",
    "import numpy as np\n"
   ]
  },
  {
   "cell_type": "code",
   "execution_count": 12,
   "metadata": {
    "collapsed": true
   },
   "outputs": [],
   "source": [
    "# define color ranges in HSV\n",
    "lower_red = np.array([0, 50,50])\n",
    "upper_red = np.array([20,255,255])\n",
    "   \n",
    "lower_green = np.array([50, 50, 50])\n",
    "upper_green = np.array([70, 255, 255])\n",
    "\n"
   ]
  },
  {
   "cell_type": "code",
   "execution_count": 13,
   "metadata": {
    "collapsed": true
   },
   "outputs": [],
   "source": [
    "def adjust(x):\n",
    "    pass\n",
    "    "
   ]
  },
  {
   "cell_type": "code",
   "execution_count": 14,
   "metadata": {
    "collapsed": false
   },
   "outputs": [],
   "source": [
    "#Adjustment sliders for color range\n",
    "# 29 is lower end of yellow in HSV space\n",
    "cv2.namedWindow('red')\n",
    "cv2.createTrackbar('lower_red_adjust', 'red', lower_red[0], 29, adjust)\n",
    "cv2.createTrackbar('upper_red_adjust', 'red', upper_red[0], 29, adjust)\n",
    "\n",
    "#add HSV sliders for everything\n",
    "\n",
    "# 119 is lower end of blue in HSV space\n",
    "cv2.namedWindow('green')\n",
    "cv2.createTrackbar('lower_green_adjust', 'green', lower_green[0], 79, adjust)\n",
    "cv2.createTrackbar('upper_green_adjust', 'green', upper_green[0], 79, adjust)"
   ]
  },
  {
   "cell_type": "code",
   "execution_count": 15,
   "metadata": {
    "collapsed": false
   },
   "outputs": [
    {
     "data": {
      "text/plain": [
       "-1"
      ]
     },
     "execution_count": 15,
     "metadata": {},
     "output_type": "execute_result"
    }
   ],
   "source": [
    "import cv2\n",
    "import numpy as np\n",
    "\n",
    "cap = cv2.VideoCapture(0)\n",
    "\n",
    "\n",
    "while(1):\n",
    "  \n",
    "    # Take each frame\n",
    "    _, frame = cap.read()\n",
    "\n",
    "    # Convert BGR to HSV\n",
    "    hsv = cv2.cvtColor(frame, cv2.COLOR_BGR2HSV)\n",
    "\n",
    "    # Threshold the selected HSV colors\n",
    "    mask_red = cv2.inRange(hsv, lower_red, upper_red)\n",
    "    \n",
    "    \n",
    "    mask_green = cv2.inRange(hsv, lower_green, upper_green)\n",
    "\n",
    "    # Bitwise-AND mask and original image\n",
    "    ratio='Red:Green '+str(cv2.countNonZero(mask_red))+\":\"+str(cv2.countNonZero(mask_green))\n",
    "    #res = cv2.bitwise_and(frame,frame, mask= mask_red)\n",
    "    \n",
    "    #calculate the resulting image - this may be much slower than just dealing with the masks consider reverting\n",
    "    res_red=cv2.bitwise_and(frame, frame, mask=mask_red)\n",
    "    res_green=cv2.bitwise_and(frame, frame, mask=mask_green)\n",
    "    \n",
    "    # add red:green ratio to window\n",
    "    cv2.putText(frame, ratio, (10,50), cv2.FONT_HERSHEY_PLAIN, 2, (0, 0, 0), 2 )\n",
    "    \n",
    "    # take red:green measurments above this point\n",
    "    \n",
    "    \n",
    "    # all text additions need to be made AFTER measurements have been taken!\n",
    "    # add adjustment slider values to window\n",
    "    #cv2.putText(mask_red, str(lower_red), (10,50), cv2.FONT_HERSHEY_PLAIN, 2, (255,255,255), 2 )\n",
    "    #cv2.putText(mask_red, str(upper_red), (10, 100), cv2.FONT_HERSHEY_PLAIN, 2, (255, 255, 255), 2)\n",
    "    cv2.putText(res_red, str(lower_red), (10,50), cv2.FONT_HERSHEY_PLAIN, 2, (255,255,255), 2 )\n",
    "    cv2.putText(res_red, str(upper_red), (10, 100), cv2.FONT_HERSHEY_PLAIN, 2, (255, 255, 255), 2)\n",
    "\n",
    "    #cv2.putText(mask_green, str(lower_green), (10,50), cv2.FONT_HERSHEY_PLAIN, 2, (255,255,255), 2 )\n",
    "    #cv2.putText(mask_green, str(upper_green), (10, 100), cv2.FONT_HERSHEY_PLAIN, 2, (255, 255, 255), 2)\n",
    "    cv2.putText(res_green, str(lower_green), (10,50), cv2.FONT_HERSHEY_PLAIN, 2, (255,255,255), 2 )\n",
    "    cv2.putText(res_green, str(upper_green), (10, 100), cv2.FONT_HERSHEY_PLAIN, 2, (255, 255, 255), 2)\n",
    "\n",
    "    #live image      \n",
    "    cv2.imshow('live',frame)\n",
    "    \n",
    "    #cv2.imshow('red',mask_red)\n",
    "    cv2.imshow('red', res_red)\n",
    "    \n",
    "    #cv2.imshow('green', mask_green )\n",
    "    cv2.imshow('green', res_green)\n",
    "    #cv2.imshow('result_green', res_green)\n",
    "    \n",
    "    #read and adjust values from sliders\n",
    "    lower_red[0]=cv2.getTrackbarPos('lower_red_adjust', 'red')\n",
    "    upper_red[0]=cv2.getTrackbarPos('upper_red_adjust', 'red')\n",
    "    \n",
    "    lower_green[0]=cv2.getTrackbarPos('lower_green_adjust', 'green')\n",
    "    upper_green[0]=cv2.getTrackbarPos('upper_green_adjust', 'green')\n",
    "    \n",
    "\n",
    "    \n",
    "    #cv2.imshow('res',res)\n",
    "      \n",
    "\n",
    "    if cv2.waitKey(1) & 0xFF == ord('q'):\n",
    "        break\n",
    "        \n",
    "cap.release()\n",
    "cv2.destroyAllWindows()\n",
    "cv2.waitKey(1)"
   ]
  },
  {
   "cell_type": "code",
   "execution_count": null,
   "metadata": {
    "collapsed": true
   },
   "outputs": [],
   "source": []
  }
 ],
 "metadata": {
  "kernelspec": {
   "display_name": "Python 2",
   "git": {
    "suppress_outputs": true
   },
   "language": "python",
   "name": "python2"
  },
  "language_info": {
   "codemirror_mode": {
    "name": "ipython",
    "version": 2
   },
   "file_extension": ".py",
   "mimetype": "text/x-python",
   "name": "python",
   "nbconvert_exporter": "python",
   "pygments_lexer": "ipython2",
   "version": "2.7.10"
  }
 },
 "nbformat": 4,
 "nbformat_minor": 0
}
