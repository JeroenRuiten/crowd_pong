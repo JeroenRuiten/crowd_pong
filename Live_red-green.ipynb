{
 "cells": [
  {
   "cell_type": "code",
   "execution_count": null,
   "metadata": {
    "collapsed": true
   },
   "outputs": [],
   "source": [
    "import cv2\n",
    "import numpy as np\n"
   ]
  },
  {
   "cell_type": "code",
   "execution_count": null,
   "metadata": {
    "collapsed": true
   },
   "outputs": [],
   "source": [
    "def adjust(x):\n",
    "    pass\n",
    "    "
   ]
  },
  {
   "cell_type": "code",
   "execution_count": null,
   "metadata": {
    "collapsed": false
   },
   "outputs": [],
   "source": [
    "#Adjustment sliders for color range\n",
    "cv2.namedWindow('red')\n",
    "#max and min red HSV values\n",
    "minHRed=0\n",
    "maxHRed=30\n",
    "minSRed=10\n",
    "maxSRed=255\n",
    "minVRed=10\n",
    "maxVRed=255\n",
    "#default values\n",
    "lowerHRedDefault=0\n",
    "upperHRedDefault=10\n",
    "# define color ranges in HSV\n",
    "lower_red = np.array([lowerHRedDefault, minSRed, minVRed])\n",
    "upper_red = np.array([upperHRedDefault, maxSRed, maxVRed]) \n",
    "\n",
    "\n",
    "# create trackbars \n",
    "cv2.createTrackbar('Hue_Upper', 'red', upper_red[0], abs(maxHRed-minHRed), adjust)\n",
    "cv2.createTrackbar('Hue_Lower', 'red', lower_red[0], abs(maxHRed-minHRed), adjust)\n",
    "cv2.createTrackbar('Sat_Upper', 'red', upper_red[1], abs(maxSRed-minSRed), adjust)\n",
    "cv2.createTrackbar('Sat_Lower', 'red', lower_red[1], abs(maxSRed-minSRed), adjust)\n",
    "cv2.createTrackbar('Val_Upper', 'red', upper_red[2], abs(maxVRed-minVRed), adjust)\n",
    "cv2.createTrackbar('Val_Lower', 'red', lower_red[2], abs(maxVRed-minVRed), adjust)\n",
    "\n",
    "cv2.namedWindow('green')\n",
    "minHGreen=40\n",
    "maxHGreen=80\n",
    "minSGreen=10\n",
    "maxSGreen=255\n",
    "minVGreen=10\n",
    "maxVGreen=255\n",
    "#default values\n",
    "lowerHGreenDefault=50\n",
    "upperHGreenDefault=70\n",
    "# define color ranges in HSV\n",
    "lower_green = np.array([lowerHGreenDefault, minSGreen, minVGreen])\n",
    "upper_green = np.array([upperHGreenDefault, maxSGreen, maxVGreen]) \n",
    "print lower_green, upper_green\n",
    "\n",
    "# create trackbars \n",
    "#FIXME - something is wrong here - the HSV lower settings are not getting set to the default\n",
    "cv2.createTrackbar('Hue_Upper', 'green', upper_green[0], abs(maxHGreen-minHGreen), adjust)\n",
    "cv2.createTrackbar('Hue_Lower', 'green', lower_green[0], abs(maxHGreen-minHGreen), adjust)\n",
    "cv2.createTrackbar('Sat_Upper', 'green', upper_green[1], abs(maxSGreen-minSGreen), adjust)\n",
    "cv2.createTrackbar('Sat_Lower', 'green', lower_green[1], abs(maxSGreen-minSGreen), adjust)\n",
    "cv2.createTrackbar('Val_Upper', 'green', upper_green[2], abs(maxVGreen-minVGreen), adjust)\n",
    "cv2.createTrackbar('Val_Lower', 'green', lower_green[2], abs(maxVGreen-minVGreen), adjust)\n",
    "\n",
    "\n",
    "#minHGreen=50 \n",
    "#cv2.createTrackbar('lower_green_adjust', 'green', lower_green[0], 79, adjust)\n",
    "#cv2.createTrackbar('upper_green_adjust', 'green', upper_green[0], 79, adjust)"
   ]
  },
  {
   "cell_type": "code",
   "execution_count": null,
   "metadata": {
    "collapsed": false
   },
   "outputs": [],
   "source": [
    "cap = cv2.VideoCapture(0)\n",
    "\n",
    "\n",
    "while(1):\n",
    "  \n",
    "    # Take each frame\n",
    "    _, frame = cap.read()\n",
    "\n",
    "    # Convert BGR to HSV\n",
    "    hsv = cv2.cvtColor(frame, cv2.COLOR_BGR2HSV)\n",
    "\n",
    "    # Threshold the selected HSV colors\n",
    "    mask_red = cv2.inRange(hsv, lower_red, upper_red)\n",
    "    \n",
    "    \n",
    "    mask_green = cv2.inRange(hsv, lower_green, upper_green)\n",
    "\n",
    "    # Bitwise-AND mask and original image\n",
    "    ratio='Red:Green '+str(cv2.countNonZero(mask_red))+\":\"+str(cv2.countNonZero(mask_green))\n",
    "    #res = cv2.bitwise_and(frame,frame, mask= mask_red)\n",
    "    \n",
    "    #calculate the resulting image - this may be much slower than just dealing with the masks consider reverting\n",
    "    res_red=cv2.bitwise_and(frame, frame, mask=mask_red)\n",
    "    res_green=cv2.bitwise_and(frame, frame, mask=mask_green)\n",
    "    \n",
    "    # add red:green ratio to window\n",
    "    cv2.putText(frame, ratio, (10,50), cv2.FONT_HERSHEY_PLAIN, 2, (0, 0, 0), 2 )\n",
    "    \n",
    "    # take red:green measurments above this point    \n",
    "    \n",
    "    # all text additions need to be made AFTER measurements have been taken!\n",
    "    # add adjustment slider values to window\n",
    "    cv2.putText(res_red, \"Low:\"+str(lower_red), (10,50), cv2.FONT_HERSHEY_PLAIN, 2, (255,255,255), 2 )\n",
    "    cv2.putText(res_red, \"Up: \"+str(upper_red), (10, 100), cv2.FONT_HERSHEY_PLAIN, 2, (255, 255, 255), 2)\n",
    "\n",
    "    #cv2.putText(mask_green, str(lower_green), (10,50), cv2.FONT_HERSHEY_PLAIN, 2, (255,255,255), 2 )\n",
    "    #cv2.putText(mask_green, str(upper_green), (10, 100), cv2.FONT_HERSHEY_PLAIN, 2, (255, 255, 255), 2)\n",
    "    cv2.putText(res_green, \"Low:\"+str(lower_green), (10,50), cv2.FONT_HERSHEY_PLAIN, 2, (255,255,255), 2 )\n",
    "    cv2.putText(res_green, \"Up: \"+str(upper_green), (10, 100), cv2.FONT_HERSHEY_PLAIN, 2, (255, 255, 255), 2)\n",
    "\n",
    "    #live image      \n",
    "    cv2.imshow('live',frame)\n",
    "    \n",
    "    #cv2.imshow('red',mask_red)\n",
    "    cv2.imshow('red', res_red)\n",
    "    \n",
    "    #cv2.imshow('green', mask_green )\n",
    "    cv2.imshow('green', res_green)\n",
    "    #cv2.imshow('result_green', res_green)\n",
    "    \n",
    "    #read and adjust values from sliders\n",
    "    \n",
    "    lower_red[0]=minHRed+cv2.getTrackbarPos('Hue_Lower', 'red')\n",
    "    upper_red[0]=minHRed+cv2.getTrackbarPos('Hue_Upper', 'red')\n",
    "    lower_red[1]=minSRed+cv2.getTrackbarPos('Sat_Lower', 'red')\n",
    "    upper_red[1]=minSRed+cv2.getTrackbarPos('Sat_Upper', 'red')\n",
    "    lower_red[2]=minVRed+cv2.getTrackbarPos('Val_Lower', 'red')\n",
    "    upper_red[2]=minVRed+cv2.getTrackbarPos('Val_Upper', 'red')\n",
    "\n",
    "    #FIXME Lower HSV are changed at this point and jump from default values\n",
    "    lower_green[0]=minHGreen+cv2.getTrackbarPos('Hue_Lower', 'green')\n",
    "    upper_green[0]=minHGreen+cv2.getTrackbarPos('Hue_Upper', 'green')\n",
    "    lower_green[1]=minSGreen+cv2.getTrackbarPos('Sat_Lower', 'green')\n",
    "    upper_green[1]=minSGreen+cv2.getTrackbarPos('Sat_Upper', 'green')\n",
    "    lower_green[2]=minVGreen+cv2.getTrackbarPos('Val_Lower', 'green')\n",
    "    upper_green[2]=minVGreen+cv2.getTrackbarPos('Val_Upper', 'green')\n",
    "    #lower_green[0]=cv2.getTrackbarPos('lower_green_adjust', 'green')\n",
    "    #upper_green[0]=cv2.getTrackbarPos('upper_green_adjust', 'green')\n",
    "    \n",
    "    print lower_green, upper_green\n",
    "    \n",
    "    #cv2.imshow('res',res)\n",
    "      \n",
    "\n",
    "    if cv2.waitKey(1) & 0xFF == ord('q'):\n",
    "        break\n",
    "        \n",
    "cap.release()\n",
    "cv2.destroyAllWindows()\n",
    "cv2.waitKey(1)"
   ]
  },
  {
   "cell_type": "code",
   "execution_count": null,
   "metadata": {
    "collapsed": true
   },
   "outputs": [],
   "source": []
  },
  {
   "cell_type": "code",
   "execution_count": null,
   "metadata": {
    "collapsed": true
   },
   "outputs": [],
   "source": []
  }
 ],
 "metadata": {
  "kernelspec": {
   "display_name": "Python 2",
   "git": {
    "suppress_outputs": true
   },
   "language": "python",
   "name": "python2"
  },
  "language_info": {
   "codemirror_mode": {
    "name": "ipython",
    "version": 2
   },
   "file_extension": ".py",
   "mimetype": "text/x-python",
   "name": "python",
   "nbconvert_exporter": "python",
   "pygments_lexer": "ipython2",
   "version": "2.7.10"
  }
 },
 "nbformat": 4,
 "nbformat_minor": 0
}
