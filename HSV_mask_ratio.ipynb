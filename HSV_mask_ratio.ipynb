{
 "cells": [
  {
   "cell_type": "code",
   "execution_count": 39,
   "metadata": {
    "collapsed": false
   },
   "outputs": [],
   "source": [
    "# HSV Sampling\n",
    "import cv2\n",
    "import numpy as np\n",
    "\n",
    "class colorHSV:\n",
    "    #class that contains high and low values for Hue, Saturation, Value\n",
    "    def __init__(self, name, hue, sat, val):\n",
    "        self.name = name\n",
    "        self.hue = hue\n",
    "        self.sat = sat\n",
    "        self.val = val\n",
    "        self.lower=np.array([hue[0], sat[0], val[0]])\n",
    "        self.upper=np.array([hue[1], sat[1], val[1]])\n",
    "        \n",
    "# accept the value slider and pass the result to the HSV variable\n",
    "def adjust(x):\n",
    "    pass\n",
    "\n",
    "def camInit(videoDev):\n",
    "    return(cv2.VideoCapture(videoDev))\n",
    "\n",
    "#def slidersHSV(color):\n",
    "    \n",
    "def createTrackbar(color):\n",
    "    cv2.createTrackbar('Hue_upper', color.name, color.hue[1], abs(color.hue[1]-color.hue[0]), adjust)\n",
    "    \n",
    "def main():\n",
    "    \n",
    "    #setup colors\n",
    "    colorA=colorHSV('red',[0,255], [0,255], [0,255])\n",
    "    colorB=colorHSV('green',[0,255], [0,255], [0,255])\n",
    "\n",
    "    \n",
    "    #define video device\n",
    "    videoDev=0\n",
    "    \n",
    "    #start camera\n",
    "    cap=camInit(videoDev)\n",
    "    \n",
    "    createTrackbar(colorA)\n",
    "    \n",
    "    while(1):\n",
    "        #capture each frame\n",
    "        _, frame = cap.read()\n",
    "    \n",
    "        #convert captured frame into HSV color space\n",
    "        hsv=cv2.cvtColor(frame, cv2.COLOR_BGR2HSV)\n",
    "        \n",
    "        #Calculate mask\n",
    "        maskA=cv2.inRange(hsv, colorA.lower, colorA.upper)\n",
    "        maskB=cv2.inRange(hsv, colorB.lower, colorB.upper)\n",
    "    \n",
    "        #Caluclate result (bitwise and of mask and frame)\n",
    "        resA=cv2.bitwise_and(frame, frame, mask=maskA)\n",
    "        resB=cv2.bitwise_and(frame, frame, mask=maskB)\n",
    "    \n",
    "        #show live and colorA and colorB feed\n",
    "        cv2.imshow('Live', frame)\n",
    "        cv2.imshow('ColorA', maskA)\n",
    "        cv2.imshow('ColorB', resB)\n",
    "        \n",
    "        if cv2.waitKey(1) & 0xFF == ord('q'):\n",
    "            break\n",
    "        \n",
    "    cap.release()\n",
    "    cv2.destroyAllWindows()\n",
    "    cv2.waitKey(1)\n",
    "    print 'thanks for playing'"
   ]
  },
  {
   "cell_type": "code",
   "execution_count": 40,
   "metadata": {
    "collapsed": false
   },
   "outputs": [
    {
     "name": "stdout",
     "output_type": "stream",
     "text": [
      "red\n",
      "thanks for playing\n"
     ]
    }
   ],
   "source": [
    "main()"
   ]
  },
  {
   "cell_type": "code",
   "execution_count": null,
   "metadata": {
    "collapsed": true
   },
   "outputs": [],
   "source": []
  },
  {
   "cell_type": "code",
   "execution_count": null,
   "metadata": {
    "collapsed": true
   },
   "outputs": [],
   "source": []
  }
 ],
 "metadata": {
  "kernelspec": {
   "display_name": "Python 2",
   "language": "python",
   "name": "python2"
  },
  "language_info": {
   "codemirror_mode": {
    "name": "ipython",
    "version": 2
   },
   "file_extension": ".py",
   "mimetype": "text/x-python",
   "name": "python",
   "nbconvert_exporter": "python",
   "pygments_lexer": "ipython2",
   "version": "2.7.10"
  }
 },
 "nbformat": 4,
 "nbformat_minor": 0
}
