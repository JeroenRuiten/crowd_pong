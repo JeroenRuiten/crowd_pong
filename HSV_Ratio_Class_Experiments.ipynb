{
 "cells": [
  {
   "cell_type": "code",
   "execution_count": null,
   "metadata": {
    "collapsed": true
   },
   "outputs": [],
   "source": [
    "#HSV Sampling of video feed\n",
    "\n",
    "import cv2\n",
    "import numpy as np\n",
    "\n",
    "#Classes\n",
    "class colorHSV:\n",
    "    def __init__(self, name, colorRange = 0)\n",
    "    # set the default color range\n",
    "    self.lower = np.array( [0, 0, 0] )\n",
    "    self.upper = np.array( [179, 0, 0])\n",
    "    \n",
    "    \n",
    "    "
   ]
  }
 ],
 "metadata": {
  "kernelspec": {
   "display_name": "Python 2",
   "language": "python",
   "name": "python2"
  },
  "language_info": {
   "codemirror_mode": {
    "name": "ipython",
    "version": 2
   },
   "file_extension": ".py",
   "mimetype": "text/x-python",
   "name": "python",
   "nbconvert_exporter": "python",
   "pygments_lexer": "ipython2",
   "version": "2.7.10"
  }
 },
 "nbformat": 4,
 "nbformat_minor": 0
}
