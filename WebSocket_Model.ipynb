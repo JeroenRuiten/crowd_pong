{
 "cells": [
  {
   "cell_type": "code",
   "execution_count": null,
   "metadata": {
    "collapsed": false
   },
   "outputs": [
    {
     "name": "stderr",
     "output_type": "stream",
     "text": [
      "[12/Nov/2015:23:18:18] ENGINE Listening for SIGHUP.\n",
      "INFO:cherrypy.error:[12/Nov/2015:23:18:18] ENGINE Listening for SIGHUP.\n",
      "[12/Nov/2015:23:18:18] ENGINE Listening for SIGTERM.\n",
      "INFO:cherrypy.error:[12/Nov/2015:23:18:18] ENGINE Listening for SIGTERM.\n",
      "[12/Nov/2015:23:18:18] ENGINE Listening for SIGUSR1.\n",
      "INFO:cherrypy.error:[12/Nov/2015:23:18:18] ENGINE Listening for SIGUSR1.\n",
      "[12/Nov/2015:23:18:18] ENGINE Bus STARTING\n",
      "INFO:cherrypy.error:[12/Nov/2015:23:18:18] ENGINE Bus STARTING\n",
      "[12/Nov/2015:23:18:18] ENGINE Starting WebSocket processing\n",
      "INFO:cherrypy.error:[12/Nov/2015:23:18:18] ENGINE Starting WebSocket processing\n",
      "[12/Nov/2015:23:18:18] ENGINE Started monitor thread '_TimeoutMonitor'.\n",
      "INFO:cherrypy.error:[12/Nov/2015:23:18:18] ENGINE Started monitor thread '_TimeoutMonitor'.\n",
      "[12/Nov/2015:23:18:18] ENGINE Started monitor thread 'Autoreloader'.\n",
      "INFO:cherrypy.error:[12/Nov/2015:23:18:18] ENGINE Started monitor thread 'Autoreloader'.\n",
      "[12/Nov/2015:23:18:18] ENGINE Serving on http://127.0.0.1:9000\n",
      "INFO:cherrypy.error:[12/Nov/2015:23:18:18] ENGINE Serving on http://127.0.0.1:9000\n",
      "[12/Nov/2015:23:18:18] ENGINE Bus STARTED\n",
      "INFO:cherrypy.error:[12/Nov/2015:23:18:18] ENGINE Bus STARTED\n",
      "INFO:cherrypy.access.4504606416:127.0.0.1 - - [12/Nov/2015:23:18:23] \"GET /ws HTTP/1.1\" 101 - \"\" \"Mozilla/5.0 (Macintosh; Intel Mac OS X 10_11_1) AppleWebKit/537.36 (KHTML, like Gecko) Chrome/46.0.2490.80 Safari/537.36\"\n",
      "INFO:cherrypy.access.4504606416:127.0.0.1 - - [12/Nov/2015:23:18:32] \"GET /ws HTTP/1.1\" 101 - \"\" \"Mozilla/5.0 (Macintosh; Intel Mac OS X 10_11_1) AppleWebKit/537.36 (KHTML, like Gecko) Chrome/46.0.2490.80 Safari/537.36\"\n",
      "INFO:cherrypy.access.4504606416:127.0.0.1 - - [12/Nov/2015:23:18:33] \"GET /ws HTTP/1.1\" 101 - \"\" \"Mozilla/5.0 (Macintosh; Intel Mac OS X 10_11_1) AppleWebKit/537.36 (KHTML, like Gecko) Chrome/46.0.2490.80 Safari/537.36\"\n",
      "INFO:cherrypy.access.4504606416:127.0.0.1 - - [12/Nov/2015:23:18:34] \"GET /ws HTTP/1.1\" 101 - \"\" \"Mozilla/5.0 (Macintosh; Intel Mac OS X 10_11_1) AppleWebKit/537.36 (KHTML, like Gecko) Chrome/46.0.2490.80 Safari/537.36\"\n",
      "[12/Nov/2015:23:18:48] ENGINE Keyboard Interrupt: shutting down bus\n",
      "INFO:cherrypy.error:[12/Nov/2015:23:18:48] ENGINE Keyboard Interrupt: shutting down bus\n",
      "[12/Nov/2015:23:18:48] ENGINE Bus STOPPING\n",
      "INFO:cherrypy.error:[12/Nov/2015:23:18:48] ENGINE Bus STOPPING\n",
      "[12/Nov/2015:23:18:48] ENGINE HTTP Server cherrypy._cpwsgi_server.CPWSGIServer(('127.0.0.1', 9000)) shut down\n",
      "INFO:cherrypy.error:[12/Nov/2015:23:18:48] ENGINE HTTP Server cherrypy._cpwsgi_server.CPWSGIServer(('127.0.0.1', 9000)) shut down\n",
      "[12/Nov/2015:23:18:48] ENGINE Stopped thread 'Autoreloader'.\n",
      "INFO:cherrypy.error:[12/Nov/2015:23:18:48] ENGINE Stopped thread 'Autoreloader'.\n"
     ]
    }
   ],
   "source": [
    "#Socket tester for python\n",
    "import time\n",
    "import cherrypy\n",
    "import random\n",
    "from ws4py.server.cherrypyserver import WebSocketPlugin, WebSocketTool\n",
    "from ws4py.websocket import WebSocket\n",
    "from ws4py.messaging import TextMessage\n",
    "\n",
    "cherrypy.config.update({'server.socket_port': 9000})\n",
    "WebSocketPlugin(cherrypy.engine).subscribe()\n",
    "cherrypy.tools.websocket = WebSocketTool()\n",
    "\n",
    "class Root(object):\n",
    "    @cherrypy.expose\n",
    "    def index(self):\n",
    "        return \"<p style=\\\"font-family:Verdana\\\">Generating live red:green ratios and sending to JS web client...</p>\"\n",
    "\n",
    "    @cherrypy.expose\n",
    "    def ws(self):\n",
    "        # you can access the class instance through\n",
    "        handler = cherrypy.request.ws_handler\n",
    "\n",
    "\n",
    "\n",
    "class myHandler(WebSocket):\n",
    "    def opened(self):\n",
    "        # cherrypy.engine.publish('add-client', self.username, self)\n",
    "        return \"<p>Connection successful</p>\"\n",
    "\n",
    "    def received_message(self, message):\n",
    "        cherrypy.engine.publish('websocket-broadcast', TextMessage(message.data))\n",
    "        while message.data != 99:\n",
    "            RGratio = (2*random.random()-1)\n",
    "            cherrypy.engine.publish('websocket-broadcast',TextMessage(str(RGratio)))\n",
    "            time.sleep(0.4)\n",
    "    def closed(self, code, reason=\"No reason... just closed.\"):\n",
    "        cherrypy.engine.publish('websocket-broadcast', TextMessage(reason))\n",
    "\n",
    "\n",
    "\n",
    "cherrypy.quickstart(Root(), '/', config={'/ws': {'tools.websocket.on': True,\n",
    "                                                 'tools.websocket.handler_cls': myHandler}})\n",
    "\n",
    "'''while True:\n",
    "    cherrypy.engine.publish('websocket-broadcast',TextMessage(\"Hellow wuld\"))\n",
    "    time.sleep(10)'''"
   ]
  },
  {
   "cell_type": "code",
   "execution_count": 1,
   "metadata": {
    "collapsed": false
   },
   "outputs": [
    {
     "name": "stdout",
     "output_type": "stream",
     "text": [
      "Interactive namespace is empty.\n"
     ]
    }
   ],
   "source": [
    "%who"
   ]
  },
  {
   "cell_type": "code",
   "execution_count": null,
   "metadata": {
    "collapsed": true
   },
   "outputs": [],
   "source": []
  }
 ],
 "metadata": {
  "kernelspec": {
   "display_name": "Python 2",
   "language": "python",
   "name": "python2"
  },
  "language_info": {
   "codemirror_mode": {
    "name": "ipython",
    "version": 2
   },
   "file_extension": ".py",
   "mimetype": "text/x-python",
   "name": "python",
   "nbconvert_exporter": "python",
   "pygments_lexer": "ipython2",
   "version": "2.7.10"
  }
 },
 "nbformat": 4,
 "nbformat_minor": 0
}
