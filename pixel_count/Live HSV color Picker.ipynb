{
 "cells": [
  {
   "cell_type": "code",
   "execution_count": 3,
   "metadata": {
    "collapsed": false
   },
   "outputs": [
    {
     "name": "stdout",
     "output_type": "stream",
     "text": [
      "186 56 105 186 56 105\n",
      "[105, 56, 186] [105, 56, 186]\n"
     ]
    }
   ],
   "source": [
    "import cv2\n",
    "import numpy as np\n",
    "\n",
    "colors = []\n",
    "\n",
    "def on_mouse_click (event, x, y, flags, frame):\n",
    "    if event == cv2.EVENT_LBUTTONUP:\n",
    "        colors.append(frame[y,x].tolist())\n",
    "\n",
    "def main():\n",
    "    capture = cv2.VideoCapture(0)\n",
    " \n",
    "    while True:\n",
    "        _, frame = capture.read()\n",
    "        hsv = cv2.cvtColor(frame, cv2.COLOR_BGR2HSV)\n",
    "        if colors:\n",
    "            cv2.putText(hsv, str(colors[-1]), (10, 50), cv2.FONT_HERSHEY_PLAIN, 2, (0, 0, 0), 2)\n",
    "        cv2.imshow('frame', hsv)\n",
    "        cv2.setMouseCallback('frame', on_mouse_click, hsv)\n",
    "\n",
    "        if cv2.waitKey(1) & 0xFF == ord('q'):\n",
    "            break\n",
    "\n",
    "    capture.release()\n",
    "    cv2.destroyAllWindows()\n",
    "    cv2.waitKey(1)\n",
    "\n",
    "    # avgb = int(sum(c[0] for c in colors) / len(colors))\n",
    "    # avgg = int(sum(c[0] for c in colors) / len(colors))\n",
    "    # avgr = int(sum(c[0] for c in colors) / len(colors))\n",
    "    # print avgb, avgg, avgr\n",
    "\n",
    "    minb = min(c[0] for c in colors)\n",
    "    ming = min(c[1] for c in colors)\n",
    "    minr = min(c[2] for c in colors)\n",
    "    maxb = max(c[0] for c in colors)\n",
    "    maxg = max(c[1] for c in colors)\n",
    "    maxr = max(c[2] for c in colors)\n",
    "    print minr, ming, minb, maxr, maxg, maxb\n",
    "\n",
    "    lb = [minb,ming,minr]\n",
    "    ub = [maxb,maxg,maxr]\n",
    "    print lb, ub\n",
    "\n",
    "if __name__ == \"__main__\":\n",
    "    main()"
   ]
  },
  {
   "cell_type": "code",
   "execution_count": 3,
   "metadata": {
    "collapsed": false
   },
   "outputs": [
    {
     "name": "stdout",
     "output_type": "stream",
     "text": [
      "hi\n"
     ]
    }
   ],
   "source": [
    "print 'hi'"
   ]
  },
  {
   "cell_type": "code",
   "execution_count": null,
   "metadata": {
    "collapsed": true
   },
   "outputs": [],
   "source": []
  },
  {
   "cell_type": "code",
   "execution_count": null,
   "metadata": {
    "collapsed": true
   },
   "outputs": [],
   "source": []
  }
 ],
 "metadata": {
  "kernelspec": {
   "display_name": "Python 2",
   "language": "python",
   "name": "python2"
  },
  "language_info": {
   "codemirror_mode": {
    "name": "ipython",
    "version": 2
   },
   "file_extension": ".py",
   "mimetype": "text/x-python",
   "name": "python",
   "nbconvert_exporter": "python",
   "pygments_lexer": "ipython2",
   "version": "2.7.10"
  }
 },
 "nbformat": 4,
 "nbformat_minor": 0
}
