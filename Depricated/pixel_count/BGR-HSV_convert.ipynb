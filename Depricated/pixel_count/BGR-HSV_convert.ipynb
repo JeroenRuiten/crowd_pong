{
 "cells": [
  {
   "cell_type": "code",
   "execution_count": 1,
   "metadata": {
    "collapsed": true
   },
   "outputs": [],
   "source": [
    "import cv2\n",
    "import numpy as np"
   ]
  },
  {
   "cell_type": "code",
   "execution_count": 3,
   "metadata": {
    "collapsed": false
   },
   "outputs": [
    {
     "name": "stdout",
     "output_type": "stream",
     "text": [
      "HSV red - Low [[[  0 255 255]]]\n",
      "HSV yellow [[[ 30 255 255]]]\n",
      "HSV green [[[ 60 255 255]]]\n",
      "HSV ltblue [[[ 90 255 255]]]\n",
      "HSV dkblue [[[120 255 255]]]\n",
      "HSV violet [[[150 255 255]]]\n"
     ]
    }
   ],
   "source": [
    "red=np.uint8([[[0,0,255]]])\n",
    "hsv_redLow=cv2.cvtColor(red,cv2.COLOR_BGR2HSV)\n",
    "print 'HSV red - Low', hsv_redLow\n",
    "\n",
    "yellow=np.uint8([[[0,255, 255]]])\n",
    "hsv_yellow=cv2.cvtColor(yellow,cv2.COLOR_BGR2HSV)\n",
    "print 'HSV yellow', hsv_yellow\n",
    "\n",
    "green=np.uint8([[[0,255,0]]])\n",
    "hsv_green = cv2.cvtColor(green,cv2.COLOR_BGR2HSV)\n",
    "print 'HSV green', hsv_green\n",
    "\n",
    "ltblue=np.uint8([[[255,255,0]]])\n",
    "hsv_ltblue=cv2.cvtColor(ltblue, cv2.COLOR_BGR2HSV)\n",
    "print 'HSV ltblue', hsv_ltblue\n",
    "\n",
    "dkblue=np.uint8([[[255, 0, 0]]])\n",
    "hsv_dkblue=cv2.cvtColor(dkblue, cv2.COLOR_BGR2HSV)\n",
    "print 'HSV dkblue', hsv_dkblue\n",
    "\n",
    "violet=np.uint8([[[255, 0, 255]]])\n",
    "hsv_violet=cv2.cvtColor(violet, cv2.COLOR_BGR2HSV)\n",
    "print 'HSV violet', hsv_violet"
   ]
  },
  {
   "cell_type": "code",
   "execution_count": 8,
   "metadata": {
    "collapsed": false
   },
   "outputs": [
    {
     "name": "stdout",
     "output_type": "stream",
     "text": [
      "Variable     Type       Data/Info\n",
      "---------------------------------\n",
      "cv2          module     <module 'cv2' from '/usr/<...>.7/site-packages/cv2.so'>\n",
      "dkblue       ndarray    1x1x3: 3 elems, type `uint8`, 3 bytes\n",
      "green        ndarray    1x1x3: 3 elems, type `uint8`, 3 bytes\n",
      "hsv_dkblue   ndarray    1x1x3: 3 elems, type `uint8`, 3 bytes\n",
      "hsv_green    ndarray    1x1x3: 3 elems, type `uint8`, 3 bytes\n",
      "hsv_ltblue   ndarray    1x1x3: 3 elems, type `uint8`, 3 bytes\n",
      "hsv_redLow   ndarray    1x1x3: 3 elems, type `uint8`, 3 bytes\n",
      "hsv_violet   ndarray    1x1x3: 3 elems, type `uint8`, 3 bytes\n",
      "hsv_yellow   ndarray    1x1x3: 3 elems, type `uint8`, 3 bytes\n",
      "ltblue       ndarray    1x1x3: 3 elems, type `uint8`, 3 bytes\n",
      "np           module     <module 'numpy' from '/us<...>ages/numpy/__init__.pyc'>\n",
      "red          ndarray    1x1x3: 3 elems, type `uint8`, 3 bytes\n",
      "violet       ndarray    1x1x3: 3 elems, type `uint8`, 3 bytes\n",
      "yellow       ndarray    1x1x3: 3 elems, type `uint8`, 3 bytes\n",
      "[[[255   0   0]]]\n"
     ]
    }
   ],
   "source": [
    "dir(dkblue)\n",
    "%whos\n",
    "print dkblue"
   ]
  },
  {
   "cell_type": "code",
   "execution_count": null,
   "metadata": {
    "collapsed": true
   },
   "outputs": [],
   "source": []
  }
 ],
 "metadata": {
  "kernelspec": {
   "display_name": "Python 2",
   "language": "python",
   "name": "python2"
  },
  "language_info": {
   "codemirror_mode": {
    "name": "ipython",
    "version": 2
   },
   "file_extension": ".py",
   "mimetype": "text/x-python",
   "name": "python",
   "nbconvert_exporter": "python",
   "pygments_lexer": "ipython2",
   "version": "2.7.10"
  }
 },
 "nbformat": 4,
 "nbformat_minor": 0
}
