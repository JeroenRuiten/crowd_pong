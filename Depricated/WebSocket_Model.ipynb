{
 "cells": [
  {
   "cell_type": "code",
   "execution_count": 1,
   "metadata": {
    "collapsed": false
   },
   "outputs": [
    {
     "ename": "NameError",
     "evalue": "name 'WebSocketPlugin' is not defined",
     "output_type": "error",
     "traceback": [
      "\u001b[0;31m---------------------------------------------------------------------------\u001b[0m",
      "\u001b[0;31mNameError\u001b[0m                                 Traceback (most recent call last)",
      "\u001b[0;32m<ipython-input-1-f756a40b7b01>\u001b[0m in \u001b[0;36m<module>\u001b[0;34m()\u001b[0m\n\u001b[1;32m      9\u001b[0m \u001b[0;34m\u001b[0m\u001b[0m\n\u001b[1;32m     10\u001b[0m \u001b[0mcherrypy\u001b[0m\u001b[0;34m.\u001b[0m\u001b[0mconfig\u001b[0m\u001b[0;34m.\u001b[0m\u001b[0mupdate\u001b[0m\u001b[0;34m(\u001b[0m\u001b[0;34m{\u001b[0m\u001b[0;34m'server.socket_port'\u001b[0m\u001b[0;34m:\u001b[0m \u001b[0;36m9000\u001b[0m\u001b[0;34m}\u001b[0m\u001b[0;34m)\u001b[0m\u001b[0;34m\u001b[0m\u001b[0m\n\u001b[0;32m---> 11\u001b[0;31m \u001b[0mWebSocketPlugin\u001b[0m\u001b[0;34m(\u001b[0m\u001b[0mcherrypy\u001b[0m\u001b[0;34m.\u001b[0m\u001b[0mengine\u001b[0m\u001b[0;34m)\u001b[0m\u001b[0;34m.\u001b[0m\u001b[0msubscribe\u001b[0m\u001b[0;34m(\u001b[0m\u001b[0;34m)\u001b[0m\u001b[0;34m\u001b[0m\u001b[0m\n\u001b[0m\u001b[1;32m     12\u001b[0m \u001b[0mcherrypy\u001b[0m\u001b[0;34m.\u001b[0m\u001b[0mtools\u001b[0m\u001b[0;34m.\u001b[0m\u001b[0mwebsocket\u001b[0m \u001b[0;34m=\u001b[0m \u001b[0mWebSocketTool\u001b[0m\u001b[0;34m(\u001b[0m\u001b[0;34m)\u001b[0m\u001b[0;34m\u001b[0m\u001b[0m\n\u001b[1;32m     13\u001b[0m \u001b[0;34m\u001b[0m\u001b[0m\n",
      "\u001b[0;31mNameError\u001b[0m: name 'WebSocketPlugin' is not defined"
     ]
    }
   ],
   "source": [
    "#Socket tester for python\n",
    "import time\n",
    "import cherrypy\n",
    "import random\n",
    "\n",
    "from ws4py.server.cherrypyserver import WebSocketPlugin, WebSocketTool\n",
    "from ws4py.websocket import WebSocket\n",
    "from ws4py.messaging import TextMessage\n",
    "\n",
    "cherrypy.config.update({'server.socket_port': 9000})\n",
    "WebSocketPlugin(cherrypy.engine).subscribe()\n",
    "cherrypy.tools.websocket = WebSocketTool()\n",
    "\n",
    "def printStuff():\n",
    "    return str((2*random.random())-1)\n",
    "\n",
    "class Root(object):\n",
    "    @cherrypy.expose\n",
    "    def index(self):\n",
    "        return \"<p style=\\\"font-family:Verdana\\\">Generating live red:green ratios and sending to JS web client...</p>\"\n",
    "\n",
    "    @cherrypy.expose\n",
    "    def ws(self):\n",
    "        # you can access the class instance through\n",
    "        handler = cherrypy.request.ws_handler\n",
    "\n",
    "\n",
    "\n",
    "class myHandler(WebSocket):\n",
    "    def opened(self):\n",
    "        # cherrypy.engine.publish('add-client', self.username, self)\n",
    "        return \"<p>Connection successful</p>\"\n",
    "\n",
    "    def received_message(self, message):\n",
    "        cherrypy.engine.publish('websocket-broadcast', TextMessage(message.data))\n",
    "        while message.data != 99:\n",
    "            RGratio = (2*random.random()-1)\n",
    "            #cherrypy.engine.publish('websocket-broadcast', TextMessage(message))\n",
    "            cherrypy.engine.publish('websocket-broadcast',TextMessage(printStuff()))\n",
    "            time.sleep(0.4)\n",
    "    def closed(self, code, reason=\"No reason... just closed.\"):\n",
    "        cherrypy.engine.publish('websocket-broadcast', TextMessage(reason))\n",
    "\n",
    "\n",
    "\n",
    "cherrypy.quickstart(Root(), '/', config={'/ws': {'tools.websocket.on': True,\n",
    "                                                 'tools.websocket.handler_cls': myHandler}})\n",
    "\n",
    "\n",
    "\n",
    "'''while True:\n",
    "    cherrypy.engine.publish('websocket-broadcast',TextMessage(\"Hellow wuld\"))\n",
    "    time.sleep(10)'''\n"
   ]
  },
  {
   "cell_type": "code",
   "execution_count": null,
   "metadata": {
    "collapsed": false
   },
   "outputs": [],
   "source": [
    "myHandler.received_message('hello world')"
   ]
  },
  {
   "cell_type": "code",
   "execution_count": null,
   "metadata": {
    "collapsed": false
   },
   "outputs": [],
   "source": [
    "cherrypy.engine.stop()"
   ]
  },
  {
   "cell_type": "code",
   "execution_count": null,
   "metadata": {
    "collapsed": true
   },
   "outputs": [],
   "source": []
  }
 ],
 "metadata": {
  "kernelspec": {
   "display_name": "Python 2",
   "language": "python",
   "name": "python2"
  },
  "language_info": {
   "codemirror_mode": {
    "name": "ipython",
    "version": 2
   },
   "file_extension": ".py",
   "mimetype": "text/x-python",
   "name": "python",
   "nbconvert_exporter": "python",
   "pygments_lexer": "ipython2",
   "version": "2.7.10"
  }
 },
 "nbformat": 4,
 "nbformat_minor": 0
}
