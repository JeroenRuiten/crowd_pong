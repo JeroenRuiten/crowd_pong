{
 "cells": [
  {
   "cell_type": "code",
   "execution_count": 5,
   "metadata": {
    "collapsed": true
   },
   "outputs": [],
   "source": [
    "import cv2\n",
    "import numpy as np\n",
    "import re\n",
    "import copy"
   ]
  },
  {
   "cell_type": "code",
   "execution_count": 105,
   "metadata": {
    "collapsed": false
   },
   "outputs": [],
   "source": [
    "#Classes\n",
    "class colorHSV:\n",
    "    '''Form a range of values for HSV colorspace filtering based on color:\n",
    "    \n",
    "    name -- a user readable name that includes one of the color ranges \n",
    "            such as: 'Color One - red'\n",
    "    colorRange -- select from a predefined color range (default is 0)\n",
    "    \n",
    "        pre defined color ranges in terms of Hue (0-179)\n",
    "        \n",
    "        Range Number - human name - Hue Range\n",
    "        0            - full       - 0-179\n",
    "        1            - red        - 0-35\n",
    "        2            - yellow     - 25-65\n",
    "        3            - green      - 55-95\n",
    "        4            - blue       - 85-125\n",
    "        5            - indigo     - 115-155\n",
    "        6            - violet     - 145-179\n",
    "    '''\n",
    "    # class attributes\n",
    "    defaultRanges = [[0, 179, 'full'], [0, 35, 'red'], [25, 65, 'yellow'], [55, 95, 'green'], \n",
    "                     [85, 125, 'blue'], [115, 155, 'indigo'], [145, 179, 'violet']]\n",
    "   \n",
    "    # maximum and minimum values for Hue, Sat, Val\n",
    "    hueRange = [0, 179]\n",
    "    satRange = [0, 255]\n",
    "    valRange = [0, 255]\n",
    "    \n",
    "    # track bar attributes\n",
    "    sliderHue = ['Hue-', 'Hue+']\n",
    "    sliderSat = ['S-', 'S+']\n",
    "    sliderVal = ['V-', 'V+']\n",
    "    sliderColRange = ['ColorRange']\n",
    "\n",
    "    #sliderHue = ['Hue-', 'Hue+']\n",
    "    #sliderSat = ['S-', 'S+']\n",
    "    #sliderVal = ['V-', 'V+']\n",
    "    #sliderColRange = ['CR']\n",
    "    \n",
    "    \n",
    "    \n",
    "    def __init__(self, name='default', colorRange=0):\n",
    "        '''Init an HSV Color Range object consiting of a 3 element numpy.array\n",
    "            lower -- lower end of color space range for filtering\n",
    "            upper -- upper end of color space range for filtering\n",
    "            colorRange -- one of the predefined color ranges; -1 by default\n",
    "            controlWinName - name for reffering to an openCV HighGUI window\n",
    "        '''\n",
    "        #Attributes\n",
    "        self.name = name\n",
    "\n",
    "        # set the name for a control slider window\n",
    "        self.controlWinName = self.name + '_controls'\n",
    "        \n",
    "        \n",
    "        # integer loop counter\n",
    "        iC=0\n",
    "        \n",
    "        # temporarily set self.colorRange to false\n",
    "        self.colorRange = False\n",
    "        for i in self.defaultRanges:\n",
    "            # create a regexp for finding the human readable color range in the name\n",
    "            regexp = self.defaultRanges[iC][2] + '.*'\n",
    "            # search the color name against the names in defaultRanges\n",
    "            m = re.search(regexp, self.name, re.IGNORECASE)\n",
    "            \n",
    "            # if a match has been made\n",
    "            if m is not None:\n",
    "                # set the color range equal to the loop counter\n",
    "                self.colorRange=iC\n",
    "                #stop looking here\n",
    "                break\n",
    "            \n",
    "            #increment the counter\n",
    "            iC += 1\n",
    "        # if a range name was not found, set the range to 0: full\n",
    "        if not self.colorRange:\n",
    "            self.colorRange = colorRange\n",
    "            \n",
    "        # default color range\n",
    "        self.lower = self.setHSVvalues( [ self.defaultRanges[self.colorRange][0],\n",
    "                                        self.satRange[0], self.valRange[0]] )\n",
    "        self.upper = self.setHSVvalues( [self.defaultRanges[self.colorRange][1], \n",
    "                                        self.satRange[1], self.valRange[1]] )\n",
    "#        self.lower = self.setHSVvalues([self.hueRange[0], self.satRange[0], self.valRange[0]])\n",
    "#        self.upper = self.setHSVvalues([self.hueRange[1], self.satRange[1], self.valRange[1]])\n",
    "    \n",
    "      \n",
    "    def setHSVvalues(self, hsv = np.array( [0, 0, 0] )):\n",
    "        '''sets a list of values as type numpy.array()'''\n",
    "        return np.array(hsv)\n",
    "    \n",
    "    def createTrackBars(self):\n",
    "        '''Create openCV HighGUI trackbars in a window that matches name + _contorls'''\n",
    "        \n",
    "        # create a named window to attach everything to\n",
    "        cv2.namedWindow(self.controlWinName)\n",
    "        print 'created window called', self.controlWinName\n",
    "        \n",
    "        # Hue Sliders\n",
    "        cv2.createTrackbar(self.sliderHue[0], self.controlWinName,\n",
    "                          self.lower[0], self.hueRange[1], adjust)\n",
    "        cv2.createTrackbar(self.sliderHue[1], self.controlWinName,\n",
    "                          self.upper[0], self.hueRange[1], adjust)\n",
    "        \n",
    "        # saturation sliders\n",
    "        cv2.createTrackbar(self.sliderSat[0], self.controlWinName, \n",
    "                          self.lower[1], self.satRange[1], adjust)\n",
    "        #cv2.createTrackbar(self.sliderSat[1], self.controlWinName, \n",
    "        #                 self.upper[1], self.satRange[1], adjust)\n",
    "        \n",
    "        # value sliders\n",
    "        cv2.createTrackbar(self.sliderVal[0], self.controlWinName, \n",
    "                          self.lower[2], self.valRange[1], adjust)\n",
    "        cv2.createTrackbar(self.sliderVal[1], self.controlWinName,\n",
    "                          self.upper[2], self.valRange[1], adjust)\n",
    "        \n",
    "        cv2.createTrackbar(self.sliderColRange[0], self.controlWinName,\n",
    "                          self.colorRange, len(self.defaultRanges)-1, adjust)\n",
    "        \n",
    "        def syncTracBars(self):\n",
    "            '''record the position of openCV trackbars in lower and upper'''\n",
    "            \n",
    "            #hue\n",
    "            self.lower[0] = cv2.getTrackbarPos(self.sliderHue[0],\n",
    "                                              self.controlWinName)\n",
    "            \n",
    "            self.upper[0] = cv2.getTrackbarPos(self.sliderHue[1],\n",
    "                                              self.controlWinName)\n",
    "            \n",
    "            #saturation\n",
    "            self.lower[1] = cv2.getTrackbarPos(self.sliderSat[0], \n",
    "                                             self.controlWinName)\n",
    "            # currently unused\n",
    "            #self.upper[1] = cv2.getTrackbarPos(self.sliderSatat[1],\n",
    "            #                                  self.controlWinName)\n",
    "            \n",
    "            #value\n",
    "            self.lower[2] = cv2.getTrackbarPos(self.sliderVal[0],\n",
    "                                              self.controlWinName)\n",
    "            self.upper[2] = cv2.getTrackbarPos(self.sliderVal[1],\n",
    "                                              self.controlWinName)\n",
    "            \n",
    "            #color range\n",
    "            self.colorRange = cv2.getTrackbarPos(self.colorRange[0], \n",
    "                                                self.controlWinName)\n",
    "            \n",
    "\n",
    "def adjust(x):\n",
    "    pass"
   ]
  },
  {
   "cell_type": "code",
   "execution_count": 109,
   "metadata": {
    "collapsed": false
   },
   "outputs": [
    {
     "ename": "SyntaxError",
     "evalue": "invalid syntax (<ipython-input-109-1eca431d36ee>, line 1)",
     "output_type": "error",
     "traceback": [
      "\u001b[0;36m  File \u001b[0;32m\"<ipython-input-109-1eca431d36ee>\"\u001b[0;36m, line \u001b[0;32m1\u001b[0m\n\u001b[0;31m    colors = [colorA = colorHSV('foo - violet'), colorB = colorHSV('bar - yellow')]\u001b[0m\n\u001b[0m                     ^\u001b[0m\n\u001b[0;31mSyntaxError\u001b[0m\u001b[0;31m:\u001b[0m invalid syntax\n"
     ]
    }
   ],
   "source": [
    "colors = ['colorA' = colorHSV('foo - violet'), colorB = colorHSV('bar - yellow')]"
   ]
  },
  {
   "cell_type": "code",
   "execution_count": null,
   "metadata": {
    "collapsed": false
   },
   "outputs": [],
   "source": [
    "#foo.lower=(foo.setHSVvalues([179, 255, 254]))\n",
    "# recurse each of the set colors create trackbars\n",
    "for each in colors:\n",
    "    each.createTrackbars()\n",
    "\n",
    "while True:\n",
    "    if cv2.waitKey(1) & 0xFF == ord('Q'): \n",
    "            print 'we out.'\n",
    "            break\n",
    "cv2.destroyAllWindows()\n",
    "cv2.waitKey(1)"
   ]
  },
  {
   "cell_type": "code",
   "execution_count": null,
   "metadata": {
    "collapsed": true
   },
   "outputs": [],
   "source": []
  },
  {
   "cell_type": "code",
   "execution_count": null,
   "metadata": {
    "collapsed": true
   },
   "outputs": [],
   "source": []
  }
 ],
 "metadata": {
  "kernelspec": {
   "display_name": "Python 2",
   "language": "python",
   "name": "python2"
  },
  "language_info": {
   "codemirror_mode": {
    "name": "ipython",
    "version": 2
   },
   "file_extension": ".py",
   "mimetype": "text/x-python",
   "name": "python",
   "nbconvert_exporter": "python",
   "pygments_lexer": "ipython2",
   "version": "2.7.10"
  }
 },
 "nbformat": 4,
 "nbformat_minor": 0
}
