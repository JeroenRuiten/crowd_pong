{
 "cells": [
  {
   "cell_type": "code",
   "execution_count": null,
   "metadata": {
    "collapsed": true
   },
   "outputs": [],
   "source": [
    "from websocket import create_connection\n",
    "import random\n",
    "import time\n",
    "ws = create_connection(\"ws://localhost:9000/ws\")\n",
    "\n",
    "def randReal():\n",
    "    time.sleep(0.4)\n",
    "    num = (random.random()*2)-1\n",
    "    return str(num)\n",
    "\n",
    "def randInt():\n",
    "  return str(random.randrange(0, 10))\n",
    "\n",
    "count = 0 \n",
    "\n",
    "while True:\n",
    "    # prevent an overflow\n",
    "    if count > 100000:\n",
    "      count = 0\n",
    "    ws.send(randReal())\n",
    "    if count % 20 == 0:\n",
    "      for i in range(1):\n",
    "        ws.send('SCORE# AI:'+randInt()+'; Human:'+randInt()+'#')\n",
    "    #result = ws.recv()\n",
    "    count += 1\n",
    "ws.close\n",
    "\n",
    "\n",
    "\n"
   ]
  }
 ],
 "metadata": {
  "kernelspec": {
   "display_name": "Python 2",
   "language": "python",
   "name": "python2"
  },
  "language_info": {
   "codemirror_mode": {
    "name": "ipython",
    "version": 2
   },
   "file_extension": ".py",
   "mimetype": "text/x-python",
   "name": "python",
   "nbconvert_exporter": "python",
   "pygments_lexer": "ipython2",
   "version": "2.7.10"
  }
 },
 "nbformat": 4,
 "nbformat_minor": 0
}
