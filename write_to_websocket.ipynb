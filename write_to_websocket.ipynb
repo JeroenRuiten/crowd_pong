{
 "cells": [
  {
   "cell_type": "code",
   "execution_count": null,
   "metadata": {
    "collapsed": false
   },
   "outputs": [],
   "source": [
    "from websocket import create_connection\n",
    "import random\n",
    "import time\n",
    "\n",
    "def formatOutput(msg):\n",
    "    '''format a message with the appropriate pre/postfix'''\n",
    "    #pre/post fix\n",
    "    pf = '#'\n",
    "    return pf + msg + pf\n",
    "    \n",
    "\n",
    "def randReal():\n",
    "    time.sleep(0.4)\n",
    "    num = (random.random()*2)-1\n",
    "    return str(num)\n",
    "\n",
    "def randInt():\n",
    "    return str(random.randrange(0, 10))\n",
    "\n",
    "def outScore():\n",
    "    '''output the a score'''\n",
    "    return formatOutput('SCORE: AI:' + randInt()+ '; Human:' + randInt())\n",
    "\n",
    "def outPoint():\n",
    "    '''output who just scored'''\n",
    "    entity = random.randrange(0, 2)\n",
    "    if entity == 0:\n",
    "        output = formatOutput('POINT: AI')\n",
    "    else:\n",
    "        output = formatOutput('POINT: Human')\n",
    "    return output\n",
    "\n",
    "def outGameOver():\n",
    "    '''output game-over status'''\n",
    "    entity = random.randrange(0, 2)\n",
    "    if entity == 0:\n",
    "        output = formatOutput('GAMEOVER: Winner: AI')\n",
    "    else:\n",
    "        output = formatOutput('GAMEOVER: Winner: Human')\n",
    "    return output\n",
    "\n",
    "\n",
    "def randomOutput():\n",
    "    possibleOutput  = {'0': outScore, '1': outPoint, '2': outGameOver}\n",
    "    choice = str(random.randrange(0, 3))\n",
    "    \n",
    "    output = possibleOutput[choice]()\n",
    "    \n",
    "    return output\n",
    "\n",
    "ws = create_connection(\"ws://localhost:9000/ws\")\n",
    "count = 0 \n",
    "while True:\n",
    "    # simulate sending video capture data\n",
    "    ws.send(randReal())\n",
    "    \n",
    "    #simulate sending game results\n",
    "    if random.randrange(0, 100) < 10:\n",
    "        ws.send(randomOutput())\n",
    "\n",
    "# well, this is rather pointless.  We never get here.\n",
    "ws.close\n",
    "\n",
    "\n",
    "\n"
   ]
  },
  {
   "cell_type": "code",
   "execution_count": null,
   "metadata": {
    "collapsed": false
   },
   "outputs": [],
   "source": [
    "for i in range(0, 100):\n",
    "    print random.randrange(0, 3)"
   ]
  }
 ],
 "metadata": {
  "kernelspec": {
   "display_name": "Python 2",
   "language": "python",
   "name": "python2"
  },
  "language_info": {
   "codemirror_mode": {
    "name": "ipython",
    "version": 2
   },
   "file_extension": ".py",
   "mimetype": "text/x-python",
   "name": "python",
   "nbconvert_exporter": "python",
   "pygments_lexer": "ipython2",
   "version": "2.7.10"
  }
 },
 "nbformat": 4,
 "nbformat_minor": 0
}
